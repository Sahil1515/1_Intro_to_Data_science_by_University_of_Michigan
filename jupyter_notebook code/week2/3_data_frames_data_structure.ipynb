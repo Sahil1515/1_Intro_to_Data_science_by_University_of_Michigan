{
 "cells": [
  {
   "cell_type": "code",
   "execution_count": 23,
   "metadata": {},
   "outputs": [
    {
     "name": "stdout",
     "output_type": "stream",
     "text": [
      "Creating the data frames\n"
     ]
    },
    {
     "data": {
      "text/html": [
       "<div>\n",
       "<style scoped>\n",
       "    .dataframe tbody tr th:only-of-type {\n",
       "        vertical-align: middle;\n",
       "    }\n",
       "\n",
       "    .dataframe tbody tr th {\n",
       "        vertical-align: top;\n",
       "    }\n",
       "\n",
       "    .dataframe thead th {\n",
       "        text-align: right;\n",
       "    }\n",
       "</style>\n",
       "<table border=\"1\" class=\"dataframe\">\n",
       "  <thead>\n",
       "    <tr style=\"text-align: right;\">\n",
       "      <th></th>\n",
       "      <th>Athletics</th>\n",
       "      <th>Football</th>\n",
       "      <th>Tenis</th>\n",
       "    </tr>\n",
       "  </thead>\n",
       "  <tbody>\n",
       "    <tr>\n",
       "      <th>team1</th>\n",
       "      <td>Sahil1</td>\n",
       "      <td>Ishan1</td>\n",
       "      <td>Annanya1</td>\n",
       "    </tr>\n",
       "    <tr>\n",
       "      <th>team2</th>\n",
       "      <td>Sahil2</td>\n",
       "      <td>Ishan2</td>\n",
       "      <td>Annanya2</td>\n",
       "    </tr>\n",
       "    <tr>\n",
       "      <th>team3</th>\n",
       "      <td>Sahil3</td>\n",
       "      <td>Ishan3</td>\n",
       "      <td>Annanya3</td>\n",
       "    </tr>\n",
       "  </tbody>\n",
       "</table>\n",
       "</div>"
      ],
      "text/plain": [
       "      Athletics Football     Tenis\n",
       "team1    Sahil1   Ishan1  Annanya1\n",
       "team2    Sahil2   Ishan2  Annanya2\n",
       "team3    Sahil3   Ishan3  Annanya3"
      ]
     },
     "execution_count": 23,
     "metadata": {},
     "output_type": "execute_result"
    }
   ],
   "source": [
    "import pandas as pd\n",
    "import numpy as np\n",
    "\n",
    "print(\"Creating the data frames\")\n",
    "sports1={\n",
    "    \"Athletics\":\"Sahil1\",\n",
    "    \"Football\":\"Ishan1\",\n",
    "    \"Tenis\":\"Annanya1\"\n",
    "}\n",
    "sports2={\n",
    "    \"Athletics\":\"Sahil2\",\n",
    "    \"Football\":\"Ishan2\",\n",
    "    \"Tenis\":\"Annanya2\"\n",
    "}\n",
    "sports3={\n",
    "    \"Athletics\":\"Sahil3\",\n",
    "    \"Football\":\"Ishan3\",\n",
    "    \"Tenis\":\"Annanya3\"\n",
    "}\n",
    "df=pd.DataFrame([sports1,sports2,sports3],index=[\"team1\",\"team2\",\"team3\"])\n",
    "df\n"
   ]
  },
  {
   "cell_type": "code",
   "execution_count": 24,
   "metadata": {},
   "outputs": [
    {
     "name": "stdout",
     "output_type": "stream",
     "text": [
      "Athletics      Sahil3\n",
      "Football       Ishan3\n",
      "Tenis        Annanya3\n",
      "Name: team3, dtype: object\n",
      "Athletics      Sahil1\n",
      "Football       Ishan1\n",
      "Tenis        Annanya1\n",
      "Name: team1, dtype: object\n"
     ]
    }
   ],
   "source": [
    "\n",
    "# Now operations on the data frame cretaed above\n",
    "\n",
    "# Using ilco\n",
    "print(df.iloc[2])\n",
    "\n",
    "# Using loc\n",
    "print(df.loc[\"team1\"])\n"
   ]
  },
  {
   "cell_type": "code",
   "execution_count": 25,
   "metadata": {},
   "outputs": [
    {
     "data": {
      "text/plain": [
       "Athletics      Sahil1\n",
       "Football       Ishan1\n",
       "Tenis        Annanya1\n",
       "Name: team1, dtype: object"
      ]
     },
     "execution_count": 25,
     "metadata": {},
     "output_type": "execute_result"
    }
   ],
   "source": [
    "df.loc[\"team1\",[\"Athletics\",\"Football\",\"Tenis\"]]\n"
   ]
  },
  {
   "cell_type": "code",
   "execution_count": 26,
   "metadata": {},
   "outputs": [
    {
     "data": {
      "text/plain": [
       "'Sahil2'"
      ]
     },
     "execution_count": 26,
     "metadata": {},
     "output_type": "execute_result"
    }
   ],
   "source": [
    "# Accessing the single box of data\n",
    "df.loc[\"team2\",\"Athletics\"]\n"
   ]
  },
  {
   "cell_type": "code",
   "execution_count": 27,
   "metadata": {},
   "outputs": [
    {
     "data": {
      "text/plain": [
       "'Annanya1'"
      ]
     },
     "execution_count": 27,
     "metadata": {},
     "output_type": "execute_result"
    }
   ],
   "source": [
    "\n",
    "#or we can access the data as:\n",
    "#but try to avoid this as this gives the copy of the data frame instead of the view on the dataframe\n",
    "df.loc[\"team1\"][\"Tenis\"]\n"
   ]
  },
  {
   "cell_type": "code",
   "execution_count": 28,
   "metadata": {},
   "outputs": [
    {
     "data": {
      "text/html": [
       "<div>\n",
       "<style scoped>\n",
       "    .dataframe tbody tr th:only-of-type {\n",
       "        vertical-align: middle;\n",
       "    }\n",
       "\n",
       "    .dataframe tbody tr th {\n",
       "        vertical-align: top;\n",
       "    }\n",
       "\n",
       "    .dataframe thead th {\n",
       "        text-align: right;\n",
       "    }\n",
       "</style>\n",
       "<table border=\"1\" class=\"dataframe\">\n",
       "  <thead>\n",
       "    <tr style=\"text-align: right;\">\n",
       "      <th></th>\n",
       "      <th>team1</th>\n",
       "      <th>team2</th>\n",
       "      <th>team3</th>\n",
       "    </tr>\n",
       "  </thead>\n",
       "  <tbody>\n",
       "    <tr>\n",
       "      <th>Athletics</th>\n",
       "      <td>Sahil1</td>\n",
       "      <td>Sahil2</td>\n",
       "      <td>Sahil3</td>\n",
       "    </tr>\n",
       "    <tr>\n",
       "      <th>Football</th>\n",
       "      <td>Ishan1</td>\n",
       "      <td>Ishan2</td>\n",
       "      <td>Ishan3</td>\n",
       "    </tr>\n",
       "    <tr>\n",
       "      <th>Tenis</th>\n",
       "      <td>Annanya1</td>\n",
       "      <td>Annanya2</td>\n",
       "      <td>Annanya3</td>\n",
       "    </tr>\n",
       "  </tbody>\n",
       "</table>\n",
       "</div>"
      ],
      "text/plain": [
       "              team1     team2     team3\n",
       "Athletics    Sahil1    Sahil2    Sahil3\n",
       "Football     Ishan1    Ishan2    Ishan3\n",
       "Tenis      Annanya1  Annanya2  Annanya3"
      ]
     },
     "execution_count": 28,
     "metadata": {},
     "output_type": "execute_result"
    }
   ],
   "source": [
    "\n",
    "# Getting the transpose of the data frame\n",
    "df.T"
   ]
  },
  {
   "cell_type": "code",
   "execution_count": 29,
   "metadata": {},
   "outputs": [
    {
     "name": "stdout",
     "output_type": "stream",
     "text": [
      "      Athletics Football     Tenis\n",
      "team1    Sahil1   Ishan1  Annanya1\n",
      "team2    Sahil2   Ishan2  Annanya2\n",
      "team3    Sahil3   Ishan3  Annanya3\n",
      "      Athletics Football\n",
      "team1    Sahil1   Ishan1\n",
      "team2    Sahil2   Ishan2\n",
      "team3    Sahil3   Ishan3\n"
     ]
    }
   ],
   "source": [
    "\n",
    "#Slicing with the loc or iloc \n",
    "print(df.loc[:])\n",
    "print(df.loc[:,[\"Athletics\",\"Football\"]])\n"
   ]
  },
  {
   "cell_type": "code",
   "execution_count": 30,
   "metadata": {},
   "outputs": [
    {
     "data": {
      "text/html": [
       "<div>\n",
       "<style scoped>\n",
       "    .dataframe tbody tr th:only-of-type {\n",
       "        vertical-align: middle;\n",
       "    }\n",
       "\n",
       "    .dataframe tbody tr th {\n",
       "        vertical-align: top;\n",
       "    }\n",
       "\n",
       "    .dataframe thead th {\n",
       "        text-align: right;\n",
       "    }\n",
       "</style>\n",
       "<table border=\"1\" class=\"dataframe\">\n",
       "  <thead>\n",
       "    <tr style=\"text-align: right;\">\n",
       "      <th></th>\n",
       "      <th>Athletics</th>\n",
       "      <th>Football</th>\n",
       "      <th>Tenis</th>\n",
       "    </tr>\n",
       "  </thead>\n",
       "  <tbody>\n",
       "    <tr>\n",
       "      <th>team2</th>\n",
       "      <td>Sahil2</td>\n",
       "      <td>Ishan2</td>\n",
       "      <td>Annanya2</td>\n",
       "    </tr>\n",
       "    <tr>\n",
       "      <th>team3</th>\n",
       "      <td>Sahil3</td>\n",
       "      <td>Ishan3</td>\n",
       "      <td>Annanya3</td>\n",
       "    </tr>\n",
       "  </tbody>\n",
       "</table>\n",
       "</div>"
      ],
      "text/plain": [
       "      Athletics Football     Tenis\n",
       "team2    Sahil2   Ishan2  Annanya2\n",
       "team3    Sahil3   Ishan3  Annanya3"
      ]
     },
     "execution_count": 30,
     "metadata": {},
     "output_type": "execute_result"
    }
   ],
   "source": [
    "# Dropinng/Deleting  the data:\n",
    "# Drop using: drop()\n",
    "\n",
    "#This dosen't delete from the original dataframe but creates the new copy\n",
    "#drop takes two optional parameters : \n",
    "    #inplace: if set to true deletes inlpace else creates the copy\n",
    "    #axex: if set to 0 means the row and if set to 1 means the column\n",
    "df_new=df.drop('team1')\n",
    "df_new"
   ]
  },
  {
   "cell_type": "code",
   "execution_count": 31,
   "metadata": {},
   "outputs": [
    {
     "name": "stdout",
     "output_type": "stream",
     "text": [
      "\n",
      "Check after the drop command when inplace is default to false\n"
     ]
    },
    {
     "data": {
      "text/html": [
       "<div>\n",
       "<style scoped>\n",
       "    .dataframe tbody tr th:only-of-type {\n",
       "        vertical-align: middle;\n",
       "    }\n",
       "\n",
       "    .dataframe tbody tr th {\n",
       "        vertical-align: top;\n",
       "    }\n",
       "\n",
       "    .dataframe thead th {\n",
       "        text-align: right;\n",
       "    }\n",
       "</style>\n",
       "<table border=\"1\" class=\"dataframe\">\n",
       "  <thead>\n",
       "    <tr style=\"text-align: right;\">\n",
       "      <th></th>\n",
       "      <th>Athletics</th>\n",
       "      <th>Football</th>\n",
       "      <th>Tenis</th>\n",
       "    </tr>\n",
       "  </thead>\n",
       "  <tbody>\n",
       "    <tr>\n",
       "      <th>team1</th>\n",
       "      <td>Sahil1</td>\n",
       "      <td>Ishan1</td>\n",
       "      <td>Annanya1</td>\n",
       "    </tr>\n",
       "    <tr>\n",
       "      <th>team2</th>\n",
       "      <td>Sahil2</td>\n",
       "      <td>Ishan2</td>\n",
       "      <td>Annanya2</td>\n",
       "    </tr>\n",
       "    <tr>\n",
       "      <th>team3</th>\n",
       "      <td>Sahil3</td>\n",
       "      <td>Ishan3</td>\n",
       "      <td>Annanya3</td>\n",
       "    </tr>\n",
       "  </tbody>\n",
       "</table>\n",
       "</div>"
      ],
      "text/plain": [
       "      Athletics Football     Tenis\n",
       "team1    Sahil1   Ishan1  Annanya1\n",
       "team2    Sahil2   Ishan2  Annanya2\n",
       "team3    Sahil3   Ishan3  Annanya3"
      ]
     },
     "execution_count": 31,
     "metadata": {},
     "output_type": "execute_result"
    }
   ],
   "source": [
    "print(\"\\nCheck after the drop command when inplace is default to false\")\n",
    "df"
   ]
  },
  {
   "cell_type": "code",
   "execution_count": 32,
   "metadata": {},
   "outputs": [
    {
     "data": {
      "text/html": [
       "<div>\n",
       "<style scoped>\n",
       "    .dataframe tbody tr th:only-of-type {\n",
       "        vertical-align: middle;\n",
       "    }\n",
       "\n",
       "    .dataframe tbody tr th {\n",
       "        vertical-align: top;\n",
       "    }\n",
       "\n",
       "    .dataframe thead th {\n",
       "        text-align: right;\n",
       "    }\n",
       "</style>\n",
       "<table border=\"1\" class=\"dataframe\">\n",
       "  <thead>\n",
       "    <tr style=\"text-align: right;\">\n",
       "      <th></th>\n",
       "      <th>Athletics</th>\n",
       "      <th>Football</th>\n",
       "      <th>Tenis</th>\n",
       "    </tr>\n",
       "  </thead>\n",
       "  <tbody>\n",
       "    <tr>\n",
       "      <th>team2</th>\n",
       "      <td>Sahil2</td>\n",
       "      <td>Ishan2</td>\n",
       "      <td>Annanya2</td>\n",
       "    </tr>\n",
       "    <tr>\n",
       "      <th>team3</th>\n",
       "      <td>Sahil3</td>\n",
       "      <td>Ishan3</td>\n",
       "      <td>Annanya3</td>\n",
       "    </tr>\n",
       "  </tbody>\n",
       "</table>\n",
       "</div>"
      ],
      "text/plain": [
       "      Athletics Football     Tenis\n",
       "team2    Sahil2   Ishan2  Annanya2\n",
       "team3    Sahil3   Ishan3  Annanya3"
      ]
     },
     "execution_count": 32,
     "metadata": {},
     "output_type": "execute_result"
    }
   ],
   "source": [
    "# Deleting inpalce by setting the inplace parameter to true\n",
    "\n",
    "df.drop('team1',inplace=True)\n",
    "df"
   ]
  },
  {
   "cell_type": "code",
   "execution_count": 33,
   "metadata": {},
   "outputs": [
    {
     "data": {
      "text/html": [
       "<div>\n",
       "<style scoped>\n",
       "    .dataframe tbody tr th:only-of-type {\n",
       "        vertical-align: middle;\n",
       "    }\n",
       "\n",
       "    .dataframe tbody tr th {\n",
       "        vertical-align: top;\n",
       "    }\n",
       "\n",
       "    .dataframe thead th {\n",
       "        text-align: right;\n",
       "    }\n",
       "</style>\n",
       "<table border=\"1\" class=\"dataframe\">\n",
       "  <thead>\n",
       "    <tr style=\"text-align: right;\">\n",
       "      <th></th>\n",
       "      <th>Athletics</th>\n",
       "      <th>Tenis</th>\n",
       "    </tr>\n",
       "  </thead>\n",
       "  <tbody>\n",
       "    <tr>\n",
       "      <th>team2</th>\n",
       "      <td>Sahil2</td>\n",
       "      <td>Annanya2</td>\n",
       "    </tr>\n",
       "    <tr>\n",
       "      <th>team3</th>\n",
       "      <td>Sahil3</td>\n",
       "      <td>Annanya3</td>\n",
       "    </tr>\n",
       "  </tbody>\n",
       "</table>\n",
       "</div>"
      ],
      "text/plain": [
       "      Athletics     Tenis\n",
       "team2    Sahil2  Annanya2\n",
       "team3    Sahil3  Annanya3"
      ]
     },
     "execution_count": 33,
     "metadata": {},
     "output_type": "execute_result"
    }
   ],
   "source": [
    "df.drop(\"Football\",inplace=True,axis=1)\n",
    "df\n"
   ]
  },
  {
   "cell_type": "code",
   "execution_count": 34,
   "metadata": {},
   "outputs": [
    {
     "name": "stdout",
     "output_type": "stream",
     "text": [
      "This deletes only the keys: i.e only along the columns and not the particular row. So do that by drop function only\n",
      "Drop using: del keyword\n"
     ]
    },
    {
     "data": {
      "text/html": [
       "<div>\n",
       "<style scoped>\n",
       "    .dataframe tbody tr th:only-of-type {\n",
       "        vertical-align: middle;\n",
       "    }\n",
       "\n",
       "    .dataframe tbody tr th {\n",
       "        vertical-align: top;\n",
       "    }\n",
       "\n",
       "    .dataframe thead th {\n",
       "        text-align: right;\n",
       "    }\n",
       "</style>\n",
       "<table border=\"1\" class=\"dataframe\">\n",
       "  <thead>\n",
       "    <tr style=\"text-align: right;\">\n",
       "      <th></th>\n",
       "      <th>Athletics</th>\n",
       "    </tr>\n",
       "  </thead>\n",
       "  <tbody>\n",
       "    <tr>\n",
       "      <th>team2</th>\n",
       "      <td>Sahil2</td>\n",
       "    </tr>\n",
       "    <tr>\n",
       "      <th>team3</th>\n",
       "      <td>Sahil3</td>\n",
       "    </tr>\n",
       "  </tbody>\n",
       "</table>\n",
       "</div>"
      ],
      "text/plain": [
       "      Athletics\n",
       "team2    Sahil2\n",
       "team3    Sahil3"
      ]
     },
     "execution_count": 34,
     "metadata": {},
     "output_type": "execute_result"
    }
   ],
   "source": [
    "\n",
    "#This deletes from the original dataframe permanantly\n",
    "print(\"This deletes only the keys: i.e only along the columns and not the particular row. So do that by drop function only\")\n",
    "print(\"Drop using: del keyword\")\n",
    "del df[\"Tenis\"]\n",
    "df\n",
    "\n"
   ]
  },
  {
   "cell_type": "code",
   "execution_count": null,
   "metadata": {},
   "outputs": [],
   "source": []
  }
 ],
 "metadata": {
  "kernelspec": {
   "display_name": "Python 3",
   "language": "python",
   "name": "python3"
  },
  "language_info": {
   "codemirror_mode": {
    "name": "ipython",
    "version": 3
   },
   "file_extension": ".py",
   "mimetype": "text/x-python",
   "name": "python",
   "nbconvert_exporter": "python",
   "pygments_lexer": "ipython3",
   "version": "3.8.2"
  }
 },
 "nbformat": 4,
 "nbformat_minor": 4
}

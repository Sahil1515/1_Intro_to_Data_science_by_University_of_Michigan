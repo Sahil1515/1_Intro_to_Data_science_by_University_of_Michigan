{
 "cells": [
  {
   "cell_type": "code",
   "execution_count": 2,
   "metadata": {},
   "outputs": [
    {
     "data": {
      "text/plain": [
       "0    Tiger\n",
       "1     Bear\n",
       "2    Moose\n",
       "dtype: object"
      ]
     },
     "execution_count": 2,
     "metadata": {},
     "output_type": "execute_result"
    }
   ],
   "source": [
    "import pandas as pd\n",
    "import numpy as np\n",
    "\n",
    "animals=[\"Tiger\",\"Bear\",\"Moose\"]\n",
    "animal_series=pd.Series(animals)\n",
    "animal_series\n",
    "\n",
    "\n"
   ]
  },
  {
   "cell_type": "code",
   "execution_count": 3,
   "metadata": {},
   "outputs": [
    {
     "data": {
      "text/plain": [
       "0    1\n",
       "1    2\n",
       "2    3\n",
       "3    4\n",
       "4    5\n",
       "5    6\n",
       "dtype: int64"
      ]
     },
     "execution_count": 3,
     "metadata": {},
     "output_type": "execute_result"
    }
   ],
   "source": [
    "numbers=[1,2,3,4,5,6]\n",
    "num_series=pd.Series(numbers)\n",
    "num_series"
   ]
  },
  {
   "cell_type": "code",
   "execution_count": 4,
   "metadata": {},
   "outputs": [
    {
     "data": {
      "text/plain": [
       "0    Tiger\n",
       "1     Bear\n",
       "2     None\n",
       "dtype: object"
      ]
     },
     "execution_count": 4,
     "metadata": {},
     "output_type": "execute_result"
    }
   ],
   "source": [
    "\n",
    "#HANDLING MISSING DATA\n",
    "animals=[\"Tiger\",\"Bear\",None]\n",
    "animal_series=pd.Series(animals)\n",
    "animal_series"
   ]
  },
  {
   "cell_type": "code",
   "execution_count": 5,
   "metadata": {},
   "outputs": [
    {
     "name": "stdout",
     "output_type": "stream",
     "text": [
      "0    1.0\n",
      "1    2.0\n",
      "2    3.0\n",
      "3    4.0\n",
      "4    5.0\n",
      "5    NaN\n",
      "dtype: float64\n",
      "nan speciallity\n",
      "False\n",
      "False\n",
      "True\n"
     ]
    }
   ],
   "source": [
    "\n",
    "\n",
    "#NAN >>>>>>>>first converts automatically every int to float and then none to nan\n",
    "numbers=[1,2,3,4,5,None]\n",
    "num_series=pd.Series(numbers)\n",
    "print(num_series)\n",
    "# nan speciallity\n",
    "print(\"nan speciallity\")\n",
    "print(np.nan==None)\n",
    "print(np.nan==np.nan)\n",
    "#Proper operation using np.isnan()\n",
    "print(np.isnan(np.nan))"
   ]
  },
  {
   "cell_type": "code",
   "execution_count": 6,
   "metadata": {},
   "outputs": [
    {
     "name": "stdout",
     "output_type": "stream",
     "text": [
      "Create series using the dictionary\n",
      "Printing the sports dictionary\n",
      "Athletics      Sahil\n",
      "Football       Ishan\n",
      "Tenis        Annanya\n",
      "dtype: object\n"
     ]
    }
   ],
   "source": [
    "\n",
    "\n",
    "#Series is like in between product of the series and the dictionary\n",
    "# Create series using the dictionary\n",
    "#Here all the keys become the indiceies and not 0's and 1's\n",
    "print(\"Create series using the dictionary\")\n",
    "\n",
    "sports={\n",
    "    \"Athletics\":\"Sahil\",\n",
    "    \"Football\":\"Ishan\",\n",
    "    \"Tenis\":\"Annanya\"\n",
    "}\n",
    "print(\"Printing the sports dictionary\")\n",
    "sp=pd.Series(sports)\n",
    "print(sp)\n"
   ]
  },
  {
   "cell_type": "code",
   "execution_count": 7,
   "metadata": {},
   "outputs": [
    {
     "name": "stdout",
     "output_type": "stream",
     "text": [
      "by setting the indicies explicitly\n",
      "0    Tiger\n",
      "1     Bear\n",
      "2     None\n",
      "dtype: object\n"
     ]
    }
   ],
   "source": [
    "\n",
    "#Above all the keys become the indiceies and not 0's and 1's\n",
    "#Or we can do it by setting the indicies explicitly\n",
    "print('by setting the indicies explicitly')\n",
    "s=pd.Series(animals,index=[0,1,2]) # if i give the dictionary here it will not work as expected\n",
    "print(s)\n"
   ]
  },
  {
   "cell_type": "code",
   "execution_count": null,
   "metadata": {},
   "outputs": [],
   "source": []
  },
  {
   "cell_type": "code",
   "execution_count": null,
   "metadata": {},
   "outputs": [],
   "source": []
  }
 ],
 "metadata": {
  "kernelspec": {
   "display_name": "Python 3",
   "language": "python",
   "name": "python3"
  },
  "language_info": {
   "codemirror_mode": {
    "name": "ipython",
    "version": 3
   },
   "file_extension": ".py",
   "mimetype": "text/x-python",
   "name": "python",
   "nbconvert_exporter": "python",
   "pygments_lexer": "ipython3",
   "version": "3.8.2"
  }
 },
 "nbformat": 4,
 "nbformat_minor": 4
}
